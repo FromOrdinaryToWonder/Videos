{
 "cells": [
  {
   "cell_type": "code",
   "execution_count": 1,
   "metadata": {},
   "outputs": [
    {
     "data": {
      "text/html": [
       "<pre style=\"white-space:pre;overflow-x:auto;line-height:normal;font-family:Menlo,'DejaVu Sans Mono',consolas,'Courier New',monospace\">Manim Community <span style=\"color: #008000; text-decoration-color: #008000\">v0.17.3</span>\n",
       "\n",
       "</pre>\n"
      ],
      "text/plain": [
       "Manim Community \u001b[32mv0.\u001b[0m\u001b[32m17.3\u001b[0m\n",
       "\n"
      ]
     },
     "metadata": {},
     "output_type": "display_data"
    }
   ],
   "source": [
    "from manim import *\n",
    "\n",
    "config.background_color = BLACK\n",
    "config.frame_width = 9\n",
    "config.frame_height = 16\n",
    "config.pixel_width = 1440\n",
    "config.pixel_height =2560\n",
    "\n"
   ]
  },
  {
   "cell_type": "code",
   "execution_count": 114,
   "metadata": {},
   "outputs": [
    {
     "name": "stderr",
     "output_type": "stream",
     "text": [
      "                                                                                                                                \r"
     ]
    },
    {
     "data": {
      "text/html": [
       "<video src=\"media\\jupyter\\Garfield_Pythagoras@2023-08-22@23-45-36.mp4\" controls autoplay loop style=\"max-width: 60%;\"  >\n",
       "      Your browser does not support the <code>video</code> element.\n",
       "    </video>"
      ],
      "text/plain": [
       "<IPython.core.display.Video object>"
      ]
     },
     "metadata": {},
     "output_type": "display_data"
    }
   ],
   "source": [
    "%%manim -v Warning --disable_caching Garfield_Pythagoras\n",
    "\n",
    "class Garfield_Pythagoras(Scene):\n",
    "    def construct(self):\n",
    "\n",
    "        \n",
    "         # Function to create a triangle and its right-angle symbol\n",
    "        def trianglenator(vertices, color):\n",
    "            triangle = Polygon(*vertices, color=color)\n",
    "            line1 = Line(vertices[1], vertices[0], color=color)\n",
    "            line2 = Line(vertices[1], vertices[2], color=color)\n",
    "            right_angle = RightAngle(line1, line2, color=color)\n",
    "\n",
    "            group = VGroup(triangle, right_angle)\n",
    "            return group, line1, line2\n",
    "\n",
    "         # vertices\n",
    "        k=2\n",
    "        vertices= [\n",
    "            np.array([-1 * k , 1 * k -1 , 0]),  # Vertex A (top)\n",
    "            np.array([-1 * k , 0 * k -1 , 0]),     # Vertex B (botom-left)\n",
    "            np.array([1 * k , 0 * k -1, 0])       # Vertex C (bottom-right)\n",
    "        ]\n",
    "\n",
    "        triangle1, line1, line2 = trianglenator(vertices, BLUE)\n",
    "\n",
    "        angle_a = Angle(Line(vertices[2], vertices[0]), Line(vertices[2], vertices[1]), radius=0.53, color=GREEN)\n",
    "        angle_t = Angle(Line(vertices[0], vertices[1]), Line(vertices[0], vertices[2]), radius= 0.53, color=RED)\n",
    "\n",
    "        alpha = MathTex(r\"\\alpha\", color=GREEN)\n",
    "        theta = MathTex(r\"\\theta\", color=RED)\n",
    "\n",
    "        alpha.shift([1, -0.75, 0])\n",
    "        theta.shift([-1.7, 0.25, 0])\n",
    "\n",
    "        a = MathTex(r\"a\")\n",
    "        b = MathTex(r\"b\")\n",
    "        c = MathTex(r\"c\")\n",
    "\n",
    "        a.shift([-2.5, -0.25, 0])\n",
    "        b.shift([-0.5, -1.5, 0])\n",
    "        c.shift([0, 0.5, 0])\n",
    "\n",
    "        self.play(Create(triangle1), Create(line1), Create(line2), Create(angle_a), Create(angle_t))\n",
    "        self.wait(0.25)\n",
    "        self.play(Write(a), Write(b), Write(c), Write(alpha), Write(theta))\n",
    "        self.wait()\n",
    "\n",
    "        triangle2, line3, line4 = trianglenator(vertices, BLUE)\n",
    "        angle_text = VGroup(angle_a, angle_t, alpha, theta, )\n",
    "    \n",
    "        subtrig= VGroup(triangle2, line3, line4)\n",
    "        triangle0 = VGroup(subtrig, angle_text.copy())\n",
    "\n",
    "\n",
    "        reflection_line = Line(vertices[0], vertices[2])\n",
    "\n",
    "        triangle0.generate_target()\n",
    "        triangle0.target.apply_function(lambda point: reflection_line.get_start() + reflection_line.get_end() - point)\n",
    "        self.play(MoveToTarget(triangle0))\n",
    "\n",
    "\n",
    "        self.play((Rotate(triangle0, angle= PI/2, about_point= vertices[0])))\n",
    "        self.play(Write(a.copy().move_to([-1, 5.5, 0])), Write(b.copy().move_to([-2.5, 3.5, 0])), Write(c.copy().move_to([-0.5, 3, 0])))\n",
    "        self.wait()\n",
    "        \n",
    "\n",
    "        vertices1= [\n",
    "            np.array([0, 5, 0]),  # Vertex A (top-right)\n",
    "            np.array([-2, 1, 0]),     # Vertex B (center)\n",
    "            np.array([2, -1, 0])       # Vertex C (bottom-left)\n",
    "        ]\n",
    "       \n",
    "\n",
    "        triangle3, line5, line6 = trianglenator(vertices1, color = BLUE)\n",
    "\n",
    "\n",
    "        angle_eq = MathTex(r\"\\alpha + \\theta = 90^\\circ\")\n",
    "        angle_eq.move_to([0, -3, 0])\n",
    "        angle_find = MathTex(r\"180^\\circ - \\left(\\alpha + \\theta\\right)= 90^\\circ\")\n",
    "        angle_find.move_to([0, -4, 0])\n",
    "\n",
    "\n",
    "        self.play(Write(angle_eq), Write(angle_find), Create(triangle3), Create(line5), Create(line6), Create(Line([0, 5, 0], [2, -1, 0], color = RED)))\n",
    "        self.wait()\n",
    "\n",
    "        def set_fill_color(group, color, opacity=0.5):\n",
    "         for shape in group:\n",
    "          shape.set_fill(color, opacity=opacity)\n",
    "        # Set fill color for the triangles\n",
    "        set_fill_color(triangle1, PURPLE)\n",
    "        set_fill_color(triangle2, PURPLE)\n",
    "        set_fill_color(triangle3, PURPLE)\n",
    "        \n",
    "        # Animate fill color changes\n",
    "        self.play(FadeOut(angle_eq), FadeOut(angle_find), triangle1.animate.set_fill(), triangle2.animate.set_fill(), triangle3.animate.set_fill())\n",
    "\n",
    "        area_trap = MathTex(r\"\\frac{1} {2} (a+b)(a + b)\")\n",
    "        area_trap.move_to([-2, -3, 0])\n",
    "        self.play(Write(area_trap))\n",
    "       \n",
    "        equal = MathTex(r\"=\")\n",
    "        equal.move_to([0, -3, 0])\n",
    "\n",
    "        tri_area = MathTex(r\"2(\\frac {1}{2} ab)\")\n",
    "        tri_area.move_to([1, -3, 0])\n",
    "\n",
    "        self.play(Write(equal), Write(tri_area), triangle1.animate.set_fill(BLUE), triangle2.animate.set_fill(BLUE), Indicate(triangle1, color=BLUE), Indicate(triangle2, color=BLUE))\n",
    "        set_fill_color(triangle1, BLUE)\n",
    "        set_fill_color(triangle2, BLUE)\n",
    "\n",
    "        last_tri = MathTex(r\" + \\frac{1}{2} c^2\")\n",
    "        last_tri.move_to([2.35, -3, 0])\n",
    "        \n",
    "        self.play(Write(last_tri), Indicate(triangle3, color=RED))\n",
    "        set_fill_color(triangle3, RED)\n",
    "\n",
    "        self.play(\n",
    "        Transform(area_trap, MathTex(r\"(a + b)^2\").next_to(equal, LEFT)),\n",
    "        Transform(tri_area, MathTex(r\"2ab\").next_to(equal, RIGHT)),\n",
    "        Transform(last_tri, MathTex(r\"+ c^2\").next_to(equal, 4 * RIGHT))\n",
    "        )\n",
    "\n",
    "        self.play(Transform(area_trap, MathTex(\"{{a^2}} + {{2ab}} + {{b^2}}\").next_to(equal, LEFT)))\n",
    "\n",
    "        self.play(Indicate(area_trap[2], color=PURPLE), Indicate(tri_area, color=PURPLE))\n",
    "\n",
    "        self.play(Transform(area_trap, MathTex(r\"a^2 + b^2\").next_to(equal, LEFT)), FadeOut(tri_area), Transform(last_tri, MathTex(r\"c^2\").move_to([0.75, -3, 0])))\n",
    "        self.play(FocusOn(equal))\n"
   ]
  }
 ],
 "metadata": {
  "kernelspec": {
   "display_name": "mce",
   "language": "python",
   "name": "python3"
  },
  "language_info": {
   "codemirror_mode": {
    "name": "ipython",
    "version": 3
   },
   "file_extension": ".py",
   "mimetype": "text/x-python",
   "name": "python",
   "nbconvert_exporter": "python",
   "pygments_lexer": "ipython3",
   "version": "3.9.9"
  },
  "orig_nbformat": 4
 },
 "nbformat": 4,
 "nbformat_minor": 2
}
